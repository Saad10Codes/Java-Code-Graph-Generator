{
 "cells": [
  {
   "cell_type": "code",
   "execution_count": 1,
   "id": "1cb08b29-e3b4-4d9c-a8bc-0998bb3aec39",
   "metadata": {},
   "outputs": [
    {
     "name": "stderr",
     "output_type": "stream",
     "text": [
      "Cloning into 'Map2Graphs.py'...\n"
     ]
    }
   ],
   "source": [
    "!git clone https://github.com/Diarmuid-ODonoghue/Map2Graphs.py.git"
   ]
  },
  {
   "cell_type": "code",
   "execution_count": null,
   "id": "d90acdc7-579a-44e4-a7ba-b36c4d09769d",
   "metadata": {},
   "outputs": [],
   "source": [
    "import os\n",
    "\n",
    "os.chdir('Map2Graphs.py')"
   ]
  }
 ],
 "metadata": {
  "kernelspec": {
   "display_name": "Python 3 (ipykernel)",
   "language": "python",
   "name": "python3"
  },
  "language_info": {
   "codemirror_mode": {
    "name": "ipython",
    "version": 3
   },
   "file_extension": ".py",
   "mimetype": "text/x-python",
   "name": "python",
   "nbconvert_exporter": "python",
   "pygments_lexer": "ipython3",
   "version": "3.11.5"
  }
 },
 "nbformat": 4,
 "nbformat_minor": 5
}
